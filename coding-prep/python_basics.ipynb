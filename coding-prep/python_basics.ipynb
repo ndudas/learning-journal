{
  "nbformat": 4,
  "nbformat_minor": 0,
  "metadata": {
    "colab": {
      "provenance": [],
      "authorship_tag": "ABX9TyMLhDtNCepXOvdJZAxMkFDl",
      "include_colab_link": true
    },
    "kernelspec": {
      "name": "python3",
      "display_name": "Python 3"
    },
    "language_info": {
      "name": "python"
    }
  },
  "cells": [
    {
      "cell_type": "markdown",
      "metadata": {
        "id": "view-in-github",
        "colab_type": "text"
      },
      "source": [
        "<a href=\"https://colab.research.google.com/github/ndudas/learning-journal/blob/main/coding-prep/python_basics.ipynb\" target=\"_parent\"><img src=\"https://colab.research.google.com/assets/colab-badge.svg\" alt=\"Open In Colab\"/></a>"
      ]
    },
    {
      "cell_type": "code",
      "execution_count": 1,
      "metadata": {
        "colab": {
          "base_uri": "https://localhost:8080/"
        },
        "id": "bc4d6BcFNJQp",
        "outputId": "459be5d1-e3d1-47c1-a2f5-da7278663439"
      },
      "outputs": [
        {
          "output_type": "stream",
          "name": "stdout",
          "text": [
            "I'm learning Python\n",
            "I'm learning SQL\n",
            "I'm learning ML\n",
            "Welcome, Nick! Let's learn AI.\n"
          ]
        }
      ],
      "source": [
        "# Python Basics – Grad School Prep\n",
        "\n",
        "name = \"Nick\"\n",
        "goal = \"Get into UT Austin MS in AI\"\n",
        "\n",
        "topics = [\"Python\", \"SQL\", \"ML\"]\n",
        "for t in topics:\n",
        "    print(f\"I'm learning {t}\")\n",
        "\n",
        "def greet(person):\n",
        "    return f\"Welcome, {person}! Let's learn AI.\"\n",
        "\n",
        "print(greet(name))\n"
      ]
    },
    {
      "cell_type": "code",
      "source": [],
      "metadata": {
        "id": "o18pl-2nNgZ1"
      },
      "execution_count": null,
      "outputs": []
    }
  ]
}